{
 "cells": [
  {
   "cell_type": "markdown",
   "metadata": {},
   "source": [
    "Initial attempt at saving the image from ChromeDino so that we can then try and make use of the game environment"
   ]
  },
  {
   "cell_type": "code",
   "execution_count": 8,
   "metadata": {
    "collapsed": true
   },
   "outputs": [],
   "source": [
    "import re\n",
    "import time\n",
    "import requests\n",
    "from bs4 import BeautifulSoup\n",
    "from tqdm import tqdm, tnrange\n",
    "import numpy as np\n",
    "from collections import defaultdict,Counter\n",
    "\n",
    "from selenium import webdriver\n",
    "from selenium.webdriver.common.keys import Keys\n",
    "from selenium.common.exceptions import NoSuchElementException\n",
    "\n",
    "import pandas as pd\n",
    "import base64\n",
    "\n",
    "from matplotlib import pyplot as plt, rcParams\n",
    "%matplotlib inline\n",
    "rcParams[\"figure.figsize\"] = (16,12)    # Use this line to increase your figure size (optional)."
   ]
  },
  {
   "cell_type": "markdown",
   "metadata": {},
   "source": [
    "Stack overflow link talking about saving images in canvas: https://stackoverflow.com/questions/44485616/web-scraping-image-inside-canvas"
   ]
  },
  {
   "cell_type": "code",
   "execution_count": null,
   "metadata": {
    "collapsed": true
   },
   "outputs": [],
   "source": []
  },
  {
   "cell_type": "markdown",
   "metadata": {},
   "source": [
    "# Option 1\n",
    "Selenium is capable of taking a screenshot and saving it, here's a working example of it:"
   ]
  },
  {
   "cell_type": "code",
   "execution_count": 4,
   "metadata": {
    "collapsed": false
   },
   "outputs": [],
   "source": [
    "url = \"https://chromedino.com/\"\n",
    "browser = webdriver.Chrome()\n",
    "try:\n",
    "    browser.get(url)\n",
    "    browser.save_screenshot('homepage.png')\n",
    "except Exception as e:\n",
    "    print(\"Errored out at step 1\", e)\n",
    "finally:\n",
    "    browser.close() #make sure we close it when we are finished."
   ]
  },
  {
   "cell_type": "markdown",
   "metadata": {},
   "source": [
    "# Option 2\n",
    "Force Selenium to execute JavaScript to just pull the information out of the canvas tag."
   ]
  },
  {
   "cell_type": "code",
   "execution_count": 11,
   "metadata": {
    "collapsed": true
   },
   "outputs": [],
   "source": [
    "js_call = \"return document.getElementsByClassName('runner-canvas')[0].toDataURL('image/png').substring(21);\"\n",
    "url = \"https://chromedino.com/\"\n",
    "browser = webdriver.Chrome()\n",
    "try:\n",
    "    browser.get(url)\n",
    "\n",
    "    body = browser.find_element_by_id('t')\n",
    "    body.send_keys(Keys.ARROW_UP)\n",
    "    time.sleep(5)\n",
    "    \n",
    "    b64_image = browser.execute_script(js_call)\n",
    "    image = base64.b64decode(b64_image)\n",
    "    output = open(\"game_board2.png\", 'wb')\n",
    "    output.write(image)\n",
    "    output.close()\n",
    "except Exception as e:\n",
    "    print(\"Errored out at step 1\", e)\n",
    "finally:\n",
    "    browser.close() #make sure we close it when we are finished."
   ]
  },
  {
   "cell_type": "code",
   "execution_count": null,
   "metadata": {
    "collapsed": true
   },
   "outputs": [],
   "source": []
  }
 ],
 "metadata": {
  "kernelspec": {
   "display_name": "Python 3",
   "language": "python",
   "name": "python3"
  },
  "language_info": {
   "codemirror_mode": {
    "name": "ipython",
    "version": 3
   },
   "file_extension": ".py",
   "mimetype": "text/x-python",
   "name": "python",
   "nbconvert_exporter": "python",
   "pygments_lexer": "ipython3",
   "version": "3.6.0"
  }
 },
 "nbformat": 4,
 "nbformat_minor": 2
}
