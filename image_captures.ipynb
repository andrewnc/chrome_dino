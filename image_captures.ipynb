{
 "cells": [
  {
   "cell_type": "markdown",
   "metadata": {},
   "source": [
    "Initial attempt at saving the image from ChromeDino so that we can then try and make use of the game environment"
   ]
  },
  {
   "cell_type": "code",
   "execution_count": null,
   "metadata": {
    "collapsed": true
   },
   "outputs": [],
   "source": [
    "import re\n",
    "import time\n",
    "import requests\n",
    "from bs4 import BeautifulSoup\n",
    "from tqdm import tqdm, tnrange\n",
    "import numpy as np\n",
    "from collections import defaultdict,Counter\n",
    "from scipy.misc import imread, imsave\n",
    "\n",
    "from selenium import webdriver\n",
    "from selenium.webdriver.common.keys import Keys\n",
    "from selenium.common.exceptions import NoSuchElementException\n",
    "\n",
    "import pandas as pd\n",
    "import base64\n",
    "import io\n",
    "from PIL import Image\n",
    "\n",
    "from matplotlib import pyplot as plt, rcParams\n",
    "from matplotlib import cm\n",
    "%matplotlib inline\n",
    "rcParams[\"figure.figsize\"] = (16,12)    # Use this line to increase your figure size (optional)."
   ]
  },
  {
   "cell_type": "markdown",
   "metadata": {},
   "source": [
    "# Option 2\n",
    "Force Selenium to execute JavaScript to just pull the information out of the canvas tag."
   ]
  },
  {
   "cell_type": "code",
   "execution_count": null,
   "metadata": {
    "collapsed": false,
    "scrolled": false
   },
   "outputs": [],
   "source": [
    "def detect_object(img):\n",
    "    x,y = np.shape(img)\n",
    "    dino = img[x//2:,:x//2] #prob don't need this\n",
    "    close = img[x//2:,x//2+20:x+20]\n",
    "    return np.mean(close)\n",
    "    print(\"Calculated {}\",np.mean(close))\n",
    "\n",
    "js_call = \"return document.getElementsByClassName('runner-canvas')[0].toDataURL('image/png').substring(21);\"\n",
    "url = \"https://chromedino.com/\"\n",
    "browser = webdriver.Chrome()\n",
    "try:\n",
    "    browser.get(url)\n",
    "\n",
    "    body = browser.find_element_by_id('t')\n",
    "    body.send_keys(Keys.ARROW_UP)\n",
    "    prev_jump = None\n",
    "    while True:\n",
    "        time.sleep(.25)\n",
    "        b64_image = browser.execute_script(js_call)\n",
    "        image = base64.b64decode(b64_image)\n",
    "        buf = io.BytesIO(image)\n",
    "        img = Image.open(buf).convert('LA')\n",
    "        np_img = np.array(img)[:,:,0]\n",
    "        new_jump = detect_object(np_img)\n",
    "        if prev_jump == new_jump and new_jump > 3:\n",
    "            print(\"I think I died\")\n",
    "            break\n",
    "        elif new_jump > 3:\n",
    "            body.send_keys(Keys.ARROW_UP)\n",
    "        else:\n",
    "            print(\"chose to not jump\")\n",
    "        print(new_jump)\n",
    "except Exception as e:\n",
    "    print(\"Errored out at step 1\", e)\n",
    "finally:\n",
    "    browser.close() #make sure we close it when we are finished."
   ]
  }
 ],
 "metadata": {
  "kernelspec": {
   "display_name": "Python 3",
   "language": "python",
   "name": "python3"
  },
  "language_info": {
   "codemirror_mode": {
    "name": "ipython",
    "version": 3
   },
   "file_extension": ".py",
   "mimetype": "text/x-python",
   "name": "python",
   "nbconvert_exporter": "python",
   "pygments_lexer": "ipython3",
   "version": "3.6.0"
  }
 },
 "nbformat": 4,
 "nbformat_minor": 2
}
