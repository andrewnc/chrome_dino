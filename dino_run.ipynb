{
 "cells": [
  {
   "cell_type": "code",
   "execution_count": 1,
   "metadata": {
    "collapsed": true
   },
   "outputs": [],
   "source": [
    "import numpy as np\n",
    "import time\n",
    "\n",
    "from selenium import webdriver\n",
    "from selenium.webdriver.common.keys import Keys\n",
    "from selenium.common.exceptions import NoSuchElementException\n",
    "\n",
    "import base64\n",
    "import io\n",
    "from PIL import Image"
   ]
  },
  {
   "cell_type": "code",
   "execution_count": 2,
   "metadata": {
    "collapsed": true
   },
   "outputs": [],
   "source": [
    "def get_cactus_height(x,y, img):\n",
    "    while np.any(img[x,y-7:y+7]):\n",
    "        x -= 1\n",
    "    return x\n",
    "\n",
    "def find_cacti(img):\n",
    "    height,width = np.shape(img)\n",
    "    dino = img[height//2:,:height//2]\n",
    "    vision = round(height*.8)\n",
    "    bird_vision = round(height*0.6)\n",
    "    field = img[vision,height//2 - width//30 - 5:] + img[bird_vision,height//2 - width//30 - 5:]\n",
    "    distance = []\n",
    "    cacti_height = []\n",
    "    prev_pixel = field[0]\n",
    "    cur_dist = 0\n",
    "    for i,pixel in enumerate(field):\n",
    "        if prev_pixel == 0 and pixel != 0:\n",
    "            distance.append(cur_dist)\n",
    "            cacti_height.append(get_cactus_height(vision, height//2 - width//30 - 5 + i, img))\n",
    "        if pixel == 0:\n",
    "            cur_dist += 1\n",
    "        prev_pixel = pixel\n",
    "    return distance, cacti_height"
   ]
  },
  {
   "cell_type": "code",
   "execution_count": null,
   "metadata": {
    "collapsed": false
   },
   "outputs": [
    {
     "name": "stdout",
     "output_type": "stream",
     "text": [
      "0 62.30826000000013\n",
      "62.30826000000013 326.8471200000011\n",
      "326.8471200000011 577.1103600000024\n"
     ]
    }
   ],
   "source": [
    "js_call = \"return document.getElementsByClassName('runner-canvas')[0].toDataURL('image/png').substring(21);\"\n",
    "second_js = \"Runner.instance_.tRex.startJump({})\"\n",
    "cur_speed_js = \"return Runner.instance_.currentSpeed\"\n",
    "cur_dist_js = \"return Runner.instance_.distanceRan\"\n",
    "url = \"https://chromedino.com/\"\n",
    "browser = webdriver.Chrome()\n",
    "try:\n",
    "    browser.get(url)\n",
    "\n",
    "    # start the first game of dino run\n",
    "    body = browser.find_element_by_id('t')\n",
    "    body.send_keys(Keys.ARROW_UP)\n",
    "    \n",
    "    prev_dist = 0\n",
    "\n",
    "    speed_factor = 0.999\n",
    "    counter = 0\n",
    "    while True:\n",
    "        time.sleep(.0015)\n",
    "        speed_factor += .0001\n",
    "        if speed_factor > 2.5:\n",
    "            speed_factor = 2.5\n",
    "        b64_image = browser.execute_script(js_call)\n",
    "        image = base64.b64decode(b64_image)\n",
    "        buf = io.BytesIO(image)\n",
    "        img = Image.open(buf).convert('LA')\n",
    "        np_img = np.array(img)[:,:,0]\n",
    "        distances, heights = find_cacti(np_img)\n",
    "        \n",
    "        counter += 1\n",
    "        if counter % 60 == 0:\n",
    "            cur_dista = browser.execute_script(cur_dist_js)\n",
    "            print(prev_dist, cur_dista)\n",
    "            if prev_dist == cur_dista and cur_dista > 20:\n",
    "                speed_factor = 0.999\n",
    "                command = input(\"Type Q to quit\")\n",
    "                if command == 'Q':\n",
    "                    break\n",
    "                else:\n",
    "                    body.send_keys(Keys.ARROW_UP)\n",
    "                # This is a game over\n",
    "            else:\n",
    "                prev_dist = cur_dista\n",
    "\n",
    "        if len(distances) != 0:\n",
    "            distances_copy = distances.copy()\n",
    "            for i,v in enumerate(distances_copy):\n",
    "                try:\n",
    "                    if abs(distances_copy[i+1] - v) < 10:\n",
    "                        distances.remove(v)\n",
    "                    else:\n",
    "                        break\n",
    "                except:\n",
    "                    pass\n",
    "            # We know we need to jump over something, how tall is it?\n",
    "            if 85 <= heights[0] <= 95:\n",
    "                if distances[0] < (102 * speed_factor):\n",
    "                    cur_speed = float(browser.execute_script(cur_speed_js))\n",
    "                    browser.execute_script(second_js.format(cur_speed))\n",
    "            if 95 <= heights[0] <= 103:\n",
    "                if distances[0] < (113 * speed_factor):\n",
    "                    cur_speed = float(browser.execute_script(cur_speed_js))\n",
    "                    browser.execute_script(second_js.format(cur_speed))\n",
    "            if 104 <= heights[0]:\n",
    "                if distances[0] < (116 * speed_factor):\n",
    "                    cur_speed = float(browser.execute_script(cur_speed_js))\n",
    "                    browser.execute_script(second_js.format(cur_speed))\n",
    "        \n",
    "except Exception as e:\n",
    "    print(\"Errored out at step 1\", e)\n",
    "finally:\n",
    "    input(\"Enter any Key to Close the browser\")\n",
    "    browser.close() #make sure we close it when we are finished."
   ]
  },
  {
   "cell_type": "code",
   "execution_count": null,
   "metadata": {
    "collapsed": true
   },
   "outputs": [],
   "source": []
  }
 ],
 "metadata": {
  "kernelspec": {
   "display_name": "Python 3",
   "language": "python",
   "name": "python3"
  },
  "language_info": {
   "codemirror_mode": {
    "name": "ipython",
    "version": 3
   },
   "file_extension": ".py",
   "mimetype": "text/x-python",
   "name": "python",
   "nbconvert_exporter": "python",
   "pygments_lexer": "ipython3",
   "version": "3.6.0"
  }
 },
 "nbformat": 4,
 "nbformat_minor": 2
}
